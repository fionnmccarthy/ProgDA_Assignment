{
 "cells": [
  {
   "cell_type": "markdown",
   "id": "e3319569-06d2-4323-8059-4c0fb7cc4770",
   "metadata": {},
   "source": [
    "# The NumPy.Random Python Package  \n",
    "***\n",
    "## Author: Fionn McCarthy\n",
    "***\n",
    "## Introduciton and Utilization of the NumPy.Random Package."
   ]
  },
  {
   "cell_type": "code",
   "execution_count": null,
   "id": "ae25689e-f63d-4a66-9e01-8e2034e5ee3a",
   "metadata": {},
   "outputs": [],
   "source": []
  },
  {
   "cell_type": "markdown",
   "id": "a2fb8c3d-675a-4468-b6cb-4188dbb92626",
   "metadata": {},
   "source": [
    "## Simple Random Data "
   ]
  },
  {
   "cell_type": "code",
   "execution_count": null,
   "id": "a435ee60-3742-4875-9d39-639bf88b940d",
   "metadata": {},
   "outputs": [],
   "source": []
  },
  {
   "cell_type": "code",
   "execution_count": null,
   "id": "6478c3af-8a56-4c31-badf-41c684383995",
   "metadata": {},
   "outputs": [],
   "source": []
  },
  {
   "cell_type": "code",
   "execution_count": null,
   "id": "cb52ce3d-32de-43e6-b41f-97e0dbf237ed",
   "metadata": {},
   "outputs": [],
   "source": []
  },
  {
   "cell_type": "markdown",
   "id": "a23fb266-7054-495b-826c-fb9a1c21f4bc",
   "metadata": {},
   "source": [
    "## Permutations Functions. "
   ]
  },
  {
   "cell_type": "code",
   "execution_count": null,
   "id": "1d2b2741-74a3-4bb1-a91b-4b18e9d73d40",
   "metadata": {},
   "outputs": [],
   "source": []
  },
  {
   "cell_type": "code",
   "execution_count": null,
   "id": "0193f660-59a2-4062-9179-a7c75c2026cf",
   "metadata": {},
   "outputs": [],
   "source": []
  },
  {
   "cell_type": "code",
   "execution_count": null,
   "id": "6e0c22e9-b4ef-449b-9e92-089e88067072",
   "metadata": {},
   "outputs": [],
   "source": []
  },
  {
   "cell_type": "markdown",
   "id": "698a4226-85f9-450f-859c-06c30bbda5ab",
   "metadata": {},
   "source": [
    "## Distributions Functions."
   ]
  },
  {
   "cell_type": "code",
   "execution_count": null,
   "id": "a9b792e5-ce41-4635-905b-38a99d1297e9",
   "metadata": {},
   "outputs": [],
   "source": []
  },
  {
   "cell_type": "code",
   "execution_count": null,
   "id": "78727a43-145d-4f1c-b0bd-301901d443a6",
   "metadata": {},
   "outputs": [],
   "source": []
  },
  {
   "cell_type": "code",
   "execution_count": null,
   "id": "7819dc49-00c1-4ebc-9348-2079960bde77",
   "metadata": {},
   "outputs": [],
   "source": []
  },
  {
   "cell_type": "markdown",
   "id": "d7f0c9ea-689e-4b98-bc55-30ba19eaa118",
   "metadata": {},
   "source": [
    "## Seeds. "
   ]
  },
  {
   "cell_type": "code",
   "execution_count": null,
   "id": "4f32adbb-1e5b-4c7e-9c58-f4e63f013f75",
   "metadata": {},
   "outputs": [],
   "source": []
  },
  {
   "cell_type": "code",
   "execution_count": null,
   "id": "bcfcc697-a553-4f4a-8a33-3fda03cb7cad",
   "metadata": {},
   "outputs": [],
   "source": []
  },
  {
   "cell_type": "code",
   "execution_count": null,
   "id": "245913e4-94b1-483f-99c5-08ccbc1e15c0",
   "metadata": {},
   "outputs": [],
   "source": []
  },
  {
   "cell_type": "markdown",
   "id": "46928ace-7fd7-47ff-8f1b-5792346d9c6f",
   "metadata": {},
   "source": [
    "## References"
   ]
  },
  {
   "cell_type": "code",
   "execution_count": null,
   "id": "5eefd7f4-179f-4257-8621-35ffe4e559fa",
   "metadata": {},
   "outputs": [],
   "source": []
  },
  {
   "cell_type": "code",
   "execution_count": null,
   "id": "795fa1c1-4009-4efc-b0a3-7859eb490687",
   "metadata": {},
   "outputs": [],
   "source": []
  }
 ],
 "metadata": {
  "kernelspec": {
   "display_name": "Python 3",
   "language": "python",
   "name": "python3"
  },
  "language_info": {
   "codemirror_mode": {
    "name": "ipython",
    "version": 3
   },
   "file_extension": ".py",
   "mimetype": "text/x-python",
   "name": "python",
   "nbconvert_exporter": "python",
   "pygments_lexer": "ipython3",
   "version": "3.8.8"
  }
 },
 "nbformat": 4,
 "nbformat_minor": 5
}
