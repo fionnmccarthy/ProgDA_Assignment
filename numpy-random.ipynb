{
 "cells": [
  {
   "cell_type": "markdown",
   "id": "e3319569-06d2-4323-8059-4c0fb7cc4770",
   "metadata": {},
   "source": [
    "# The NumPy.Random Python Package  \n",
    "***\n",
    "## Author: Fionn McCarthy - G00301126\n",
    "***\n",
    "![xplotoutput](numpy_image.png) \n",
    "***\n",
    "## Introduction and Backgroud of NumPy.Random Package\n",
    "Firstly, I will given a short background on the NumPy library, as this is where the NumPy.Radnom module derives from. NumPy is a python based library that contains multi-dimensional array objects known as **ndarray** and a number of functions for performing mathematical and logical operations on these arrays, it's name is short notation for 'Numerical Python' [1]. It is one of the most useful libraries in python for it's ability to perform numerical computation so quickly. \n",
    "\n",
    "NumPy.Random is a module within the NumPy library which is utilized for random sampling, the functions within this module are for generating random numbers. The package contains functions that allows for simple random data generation, permutation and distribtution functions and random generator functions [2]. The random number routines within the NumPy.Random package produce pseudo random numbers by utilizing both the **BitGenerator** in order to produce sequences and then the **Generator** to use the sequences that have been created in order to sample from the different statistical distributions [3]. The package contians a collection of funtions that helps to produce arrays of pseudo-random numbers with the various different probability distributions. This brilliant package enables the user to generate numbers at random within different ranges with the use of it's different functions, it also enables the user to seelct teh different probability distribution they required the data to be produced in. This can be compared to some real life situations such as flipping a coin and how the results of a thousand coin tosses can be generated and examined, or how to generate the outcomes of the roll of two dice and then generating the results of rolling these dice a thousand times in order to investigate these results. "
   ]
  },
  {
   "cell_type": "code",
   "execution_count": 5,
   "id": "ae25689e-f63d-4a66-9e01-8e2034e5ee3a",
   "metadata": {},
   "outputs": [],
   "source": [
    "# Import libraries utilized in the jupyter notebook\n",
    "\n",
    "import numpy as np               # working with arrays and computation\n",
    "import matplotlib.pyplot as plt  # plotting functions\n",
    "import pandas as pd              # working with dataframes \n",
    "import seaborn as sns            # data visualisation\n",
    "\n",
    "# allows for inline plotting in jupyter notebook \n",
    "%matplotlib inline"
   ]
  },
  {
   "cell_type": "markdown",
   "id": "a2fb8c3d-675a-4468-b6cb-4188dbb92626",
   "metadata": {},
   "source": [
    "## Simple Random Data "
   ]
  },
  {
   "cell_type": "markdown",
   "id": "fe61d265-5594-408a-b5c2-a7d798ab0624",
   "metadata": {},
   "source": [
    "random.integers"
   ]
  },
  {
   "cell_type": "code",
   "execution_count": null,
   "id": "a435ee60-3742-4875-9d39-639bf88b940d",
   "metadata": {},
   "outputs": [],
   "source": []
  },
  {
   "cell_type": "markdown",
   "id": "8fdee4fd-82c5-4173-a7ad-bc0717404d57",
   "metadata": {},
   "source": [
    "random.random"
   ]
  },
  {
   "cell_type": "code",
   "execution_count": null,
   "id": "6478c3af-8a56-4c31-badf-41c684383995",
   "metadata": {},
   "outputs": [],
   "source": []
  },
  {
   "cell_type": "markdown",
   "id": "bc2312da-ab95-41ce-b89e-f654125ed322",
   "metadata": {},
   "source": [
    "random.choice"
   ]
  },
  {
   "cell_type": "code",
   "execution_count": null,
   "id": "2c80ba69-ced8-473b-99e6-bba93ed98028",
   "metadata": {},
   "outputs": [],
   "source": []
  },
  {
   "cell_type": "markdown",
   "id": "566519ed-1832-4d3d-850a-d37c0f3301b6",
   "metadata": {},
   "source": [
    "random.bytes"
   ]
  },
  {
   "cell_type": "code",
   "execution_count": null,
   "id": "1df5e578-a599-4131-a643-1a655280795f",
   "metadata": {},
   "outputs": [],
   "source": []
  },
  {
   "cell_type": "markdown",
   "id": "a23fb266-7054-495b-826c-fb9a1c21f4bc",
   "metadata": {},
   "source": [
    "## Permutations Functions. "
   ]
  },
  {
   "cell_type": "markdown",
   "id": "4fe8890e-c1a4-48fe-9608-437d9a2b405f",
   "metadata": {},
   "source": [
    "random.shuffle"
   ]
  },
  {
   "cell_type": "code",
   "execution_count": null,
   "id": "36ba2329-79dc-4c52-ba0d-3f003be8ed53",
   "metadata": {},
   "outputs": [],
   "source": []
  },
  {
   "cell_type": "markdown",
   "id": "26058477-3f70-4b9f-8e61-19c8ce0bcc76",
   "metadata": {},
   "source": [
    "random.permutation"
   ]
  },
  {
   "cell_type": "code",
   "execution_count": null,
   "id": "07e5400a-c5e7-4256-b661-5ebc56abdb0c",
   "metadata": {},
   "outputs": [],
   "source": []
  },
  {
   "cell_type": "markdown",
   "id": "6fc065e4-7ce3-4a1b-b610-0c6dc7e62abc",
   "metadata": {},
   "source": [
    "random.permuted"
   ]
  },
  {
   "cell_type": "code",
   "execution_count": null,
   "id": "6e0c22e9-b4ef-449b-9e92-089e88067072",
   "metadata": {},
   "outputs": [],
   "source": []
  },
  {
   "cell_type": "markdown",
   "id": "698a4226-85f9-450f-859c-06c30bbda5ab",
   "metadata": {},
   "source": [
    "## Distributions Functions."
   ]
  },
  {
   "cell_type": "code",
   "execution_count": null,
   "id": "a9b792e5-ce41-4635-905b-38a99d1297e9",
   "metadata": {},
   "outputs": [],
   "source": []
  },
  {
   "cell_type": "code",
   "execution_count": null,
   "id": "78727a43-145d-4f1c-b0bd-301901d443a6",
   "metadata": {},
   "outputs": [],
   "source": []
  },
  {
   "cell_type": "code",
   "execution_count": null,
   "id": "7819dc49-00c1-4ebc-9348-2079960bde77",
   "metadata": {},
   "outputs": [],
   "source": []
  },
  {
   "cell_type": "markdown",
   "id": "d7f0c9ea-689e-4b98-bc55-30ba19eaa118",
   "metadata": {},
   "source": [
    "## Seeds. "
   ]
  },
  {
   "cell_type": "code",
   "execution_count": null,
   "id": "4f32adbb-1e5b-4c7e-9c58-f4e63f013f75",
   "metadata": {},
   "outputs": [],
   "source": []
  },
  {
   "cell_type": "code",
   "execution_count": null,
   "id": "bcfcc697-a553-4f4a-8a33-3fda03cb7cad",
   "metadata": {},
   "outputs": [],
   "source": []
  },
  {
   "cell_type": "code",
   "execution_count": null,
   "id": "245913e4-94b1-483f-99c5-08ccbc1e15c0",
   "metadata": {},
   "outputs": [],
   "source": []
  },
  {
   "cell_type": "markdown",
   "id": "46928ace-7fd7-47ff-8f1b-5792346d9c6f",
   "metadata": {},
   "source": [
    "## References\n",
    "1. https://www.mygreatlearning.com/blog/python-numpy-tutorial/ 04/11/2021 \n",
    "2. https://www.javatpoint.com/numpy-random 09/11/2021\n",
    "3. https://numpy.org/doc/stable/reference/random/index.html 04/11/2021\n",
    "4. https://numpy.org/doc/stable/reference/random/generator.html important doc "
   ]
  },
  {
   "cell_type": "code",
   "execution_count": null,
   "id": "5eefd7f4-179f-4257-8621-35ffe4e559fa",
   "metadata": {},
   "outputs": [],
   "source": []
  },
  {
   "cell_type": "code",
   "execution_count": null,
   "id": "795fa1c1-4009-4efc-b0a3-7859eb490687",
   "metadata": {},
   "outputs": [],
   "source": []
  }
 ],
 "metadata": {
  "kernelspec": {
   "display_name": "Python 3",
   "language": "python",
   "name": "python3"
  },
  "language_info": {
   "codemirror_mode": {
    "name": "ipython",
    "version": 3
   },
   "file_extension": ".py",
   "mimetype": "text/x-python",
   "name": "python",
   "nbconvert_exporter": "python",
   "pygments_lexer": "ipython3",
   "version": "3.8.8"
  }
 },
 "nbformat": 4,
 "nbformat_minor": 5
}
